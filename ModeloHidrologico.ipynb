{
 "cells": [
  {
   "cell_type": "markdown",
   "id": "7bf15b1e-55d1-4b8e-a561-ced580fe895a",
   "metadata": {},
   "source": [
    "### Importar librerías"
   ]
  },
  {
   "cell_type": "code",
   "execution_count": 1,
   "id": "71d1d25e-a7d1-4fce-b84d-233f20e8acc3",
   "metadata": {},
   "outputs": [],
   "source": [
    "import numpy as np\n",
    "import matplotlib.pyplot as plt"
   ]
  },
  {
   "cell_type": "markdown",
   "id": "a4d55f78-5444-4a42-9e47-d5af9ccdee94",
   "metadata": {},
   "source": [
    "### Definir parámetros y funciones"
   ]
  },
  {
   "cell_type": "code",
   "execution_count": 2,
   "id": "3968b9ea-d811-4c41-b5ef-bb665ccfa547",
   "metadata": {},
   "outputs": [],
   "source": [
    "# Parámetros\n",
    "rho = 1000  # Densidad del agua en kg/m^3\n",
    "Cp = 4186   # Capacidad calorífica específica del agua en J/kg·°C\n",
    "volume = 1000000  # Volumen del embalse en metros cúbicos (1 millón m^3)\n",
    "Q_solar = 500  # Radiación solar en W/m²\n",
    "Q_loss = 50    # Pérdida de calor por evaporación y radiación en W/m²\n",
    "area = 10000   # Área de la superficie del embalse en m²\n",
    "time_step = 3600  # Paso de tiempo en segundos (1 hora)\n",
    "total_time = 86400  # Tiempo total de simulación en segundos (1 día)\n",
    "initial_temperature = 10  # Temperatura inicial en °C\n",
    "\n",
    "# Inicializar variables\n",
    "time_points = np.arange(0, total_time, time_step)\n",
    "temperatures = np.zeros(len(time_points))\n",
    "temperatures[0] = initial_temperature\n",
    "\n",
    "# Función para calcular el cambio de temperatura\n",
    "def temperature_change(Q_solar, Q_loss, volume, rho, Cp, area, dt):\n",
    "    # Calcular el calor recibido (W)\n",
    "    heat_input = Q_solar * area * dt\n",
    "    # Calcular la pérdida de calor (W)\n",
    "    heat_loss = Q_loss * area * dt\n",
    "    # Aplicar la ecuación de balance de calor\n",
    "    dT = (heat_input - heat_loss) / (volume * rho * Cp)\n",
    "    return dT\n",
    "\n",
    "# Simular los cambios de temperatura\n",
    "for t in range(1, len(time_points)):\n",
    "    dT = temperature_change(Q_solar, Q_loss, volume, rho, Cp, area, time_step)\n",
    "    temperatures[t] = temperatures[t - 1] + dT\n",
    "\n",
    "# Funciones biológicas\n",
    "def growth_temperature(temp, temp_opt=15, sigma=2):\n",
    "    return np.exp(-((temp - temp_opt) ** 2) / (2 * sigma ** 2))\n",
    "\n",
    "def nutrient_limitation(np_ratio, k_np=86.6):\n",
    "    return np_ratio / (k_np + np_ratio)\n",
    "\n",
    "def light_limitation(radiation, max_radiation=80):\n",
    "    return min(1, radiation / max_radiation)\n",
    "\n",
    "def chlorophyll_a_production(temp, radiation, np_ratio, max_chlorophyll=40):\n",
    "    temp_effect = growth_temperature(temp)\n",
    "    light_effect = light_limitation(radiation)\n",
    "    nutrient_effect = nutrient_limitation(np_ratio)\n",
    "    return max_chlorophyll * min(temp_effect, light_effect, nutrient_effect)"
   ]
  },
  {
   "cell_type": "markdown",
   "id": "64d470bc-c562-4352-9e1c-8c0264bfa54f",
   "metadata": {},
   "source": [
    "### Ejecución"
   ]
  },
  {
   "cell_type": "code",
   "execution_count": 3,
   "id": "f462113f-7746-4a96-99e1-75e1a557486c",
   "metadata": {},
   "outputs": [
    {
     "name": "stdin",
     "output_type": "stream",
     "text": [
      "Ingrese la relación N/P (mg/L):  80\n",
      "Ingrese la radiación esperada (W/m²):  80\n"
     ]
    },
    {
     "name": "stdout",
     "output_type": "stream",
     "text": [
      "\n",
      "--- Resultados ---\n",
      "Temperatura inicial: 10.00 °C\n",
      "Temperatura ajustada: 10.04 °C\n",
      "Producción estimada de Clorofila-a: 1.86 µg/L\n"
     ]
    }
   ],
   "source": [
    "# === Pedir datos al usuario ===\n",
    "np_ratio = float(input(\"Ingrese la relación N/P (mg/L): \"))\n",
    "radiation = float(input(\"Ingrese la radiación esperada (W/m²): \"))\n",
    "\n",
    "# Ajustar temperatura\n",
    "temp_inicial = initial_temperature\n",
    "temp_ajustada = temperatures.mean()\n",
    "\n",
    "# Calcular producción de clorofila\n",
    "produccion_clorofila = chlorophyll_a_production(temp_ajustada, radiation, np_ratio)\n",
    "\n",
    "# === Mostrar resultados ===\n",
    "print(\"\\n--- Resultados ---\")\n",
    "print(f\"Temperatura inicial: {temp_inicial:.2f} °C\")\n",
    "print(f\"Temperatura ajustada: {temp_ajustada:.2f} °C\")\n",
    "print(f\"Producción estimada de Clorofila-a: {produccion_clorofila:.2f} µg/L\")"
   ]
  },
  {
   "cell_type": "markdown",
   "id": "f6c8de6b-d8c7-40c0-b1e3-422678b181e7",
   "metadata": {},
   "source": [
    "### Gráficas"
   ]
  },
  {
   "cell_type": "code",
   "execution_count": null,
   "id": "6b8c33d8-90e8-49e0-8e0e-8576e8b7e089",
   "metadata": {},
   "outputs": [],
   "source": [
    "# === Graficar efectos ===\n",
    "temperatures = np.linspace(temp_inicial - 5, temp_inicial + 5, 100)\n",
    "chlorophyll_values = [chlorophyll_a_production(temp, radiation, np_ratio) for temp in temperatures]\n",
    "\n",
    "plt.figure(figsize=(8, 5))\n",
    "plt.plot(temperatures, chlorophyll_values, label=\"Clorofila-a vs Temperatura\", color=\"green\")\n",
    "plt.axvline(temp_ajustada, color=\"red\", linestyle=\"--\", label=f\"Temp ajustada: {temp_ajustada:.2f} °C\")\n",
    "plt.xlabel(\"Temperatura (°C)\")\n",
    "plt.ylabel(\"Clorofila-a (µg/L)\")\n",
    "plt.title(\"Producción de Clorofila-a según Temperatura\")\n",
    "plt.legend()\n",
    "plt.grid()\n",
    "plt.show()"
   ]
  }
 ],
 "metadata": {
  "kernelspec": {
   "display_name": "Python 3 (ipykernel)",
   "language": "python",
   "name": "python3"
  },
  "language_info": {
   "codemirror_mode": {
    "name": "ipython",
    "version": 3
   },
   "file_extension": ".py",
   "mimetype": "text/x-python",
   "name": "python",
   "nbconvert_exporter": "python",
   "pygments_lexer": "ipython3",
   "version": "3.9.18"
  }
 },
 "nbformat": 4,
 "nbformat_minor": 5
}
